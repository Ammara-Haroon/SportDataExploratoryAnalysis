{
 "cells": [
  {
   "cell_type": "markdown",
   "metadata": {
    "deletable": false,
    "editable": false,
    "nbgrader": {
     "checksum": "48770f8b5f5d3062d3badd51fcafc401",
     "grade": false,
     "grade_id": "cell-a6c4f74309fc2379",
     "locked": true,
     "schema_version": 1,
     "solution": false
    }
   },
   "source": []
  },
  {
   "cell_type": "markdown",
   "metadata": {
    "deletable": false,
    "editable": false,
    "nbgrader": {
     "checksum": "369ff9ecf0ee04640574205cbc697f94",
     "grade": false,
     "grade_id": "cell-712b2b5da63d4505",
     "locked": true,
     "schema_version": 1,
     "solution": false
    }
   },
   "source": [
    "Calculating the win/loss ratio's correlation with the population of the city it is in for the **NHL** using **2018** data. This process involves data cleaning and calculating wins and losses."
   ]
  },
  {
   "cell_type": "code",
   "execution_count": 6,
   "metadata": {
    "deletable": false,
    "nbgrader": {
     "checksum": "1cac4803b02502929f5b1612d48db2b5",
     "grade": false,
     "grade_id": "cell-69b16e4386e58030",
     "locked": false,
     "schema_version": 1,
     "solution": true
    }
   },
   "outputs": [
    {
     "name": "stdout",
     "output_type": "stream",
     "text": [
      "Index(['Metropolitan area', 'Population', 'NFL', 'MLB', 'NBA', 'NHL'], dtype='object')\n",
      "(0.012308996455744249, 0.9504308637909502)\n"
     ]
    }
   ],
   "source": [
    "import pandas as pd\n",
    "import numpy as np\n",
    "import scipy.stats as stats\n",
    "import re\n",
    "\n",
    "nhl_df=pd.read_csv(\"assets/nhl.csv\")\n",
    "cities=pd.read_html(\"assets/wikipedia_data.html\")[1]\n",
    "cities=cities.iloc[:-1,[0,3,5,6,7,8]]\n",
    "\n",
    "cities = cities.rename(columns = {cities.columns[1]:'Population'})\n",
    "print(cities.columns)\n",
    "#print(cities[\"NHL\"])\n",
    "nhl_df = nhl_df[(nhl_df['year']==2018)]\n",
    "nhl_df = nhl_df[(nhl_df['team'] != 'Atlantic Division') & (nhl_df['team'] != 'Metropolitan Division') & \n",
    "                (nhl_df['team'] != 'Central Division') & (nhl_df['team'] != 'Pacific Division')]\n",
    "               \n",
    "nhl_df.replace('\\*', '',regex = True,inplace = True)\n",
    "\n",
    "nhl_df[['city','team']] = nhl_df['team'].str.split(' ',1,expand = True)\n",
    "nhl_df.at[1,'city']='Tampa Bay'\n",
    "nhl_df.at[1,'team']='Lightning'\n",
    "nhl_df.at[14,'city']='New Jersey'\n",
    "nhl_df.at[14,'team']='Devils'\n",
    "nhl_df.at[16,'city']='New York'\n",
    "nhl_df.at[16,'team']='Islanders'\n",
    "nhl_df.at[17,'city']='New York'\n",
    "nhl_df.at[17,'team']='Rangers'\n",
    "nhl_df.at[23,'city']='St. Louis'\n",
    "nhl_df.at[23,'team']='Blues'\n",
    "nhl_df.at[29,'city']='San Jose'\n",
    "nhl_df.at[29,'team']='Sharks'\n",
    "nhl_df.at[30,'city']='Los Angeles'\n",
    "nhl_df.at[30,'team']='Kings'\n",
    "\n",
    "cities_NHL = cities.iloc[:,[0,1,5]]\n",
    "cities_NHL.replace({'NHL':r'\\[.+\\]'}, {'NHL':\"\"},regex = True,inplace = True)\n",
    "\n",
    "cities_NHL.at[0,'NHL'] = 'Rangers'\n",
    "nr = pd.Series({cities_NHL.columns[0]:cities_NHL.iat[0,0],cities_NHL.columns[1]:cities_NHL.iat[0,1],'NHL':'Islanders'})\n",
    "cities_NHL = cities_NHL.append(nr,ignore_index = True)\n",
    "nr['NHL'] = 'Devils'\n",
    "cities_NHL = cities_NHL.append(nr,ignore_index =True)\n",
    "\n",
    "cities_NHL.at[1,'NHL'] = 'Kings'\n",
    "nr = pd.Series({cities_NHL.columns[0]:cities_NHL.iat[1,0],cities_NHL.columns[1]:cities_NHL.iat[1,1],'NHL':'Ducks'})\n",
    "cities_NHL = cities_NHL.append(nr,ignore_index = True)\n",
    "\n",
    "new_df_nhl = cities_NHL.merge(nhl_df,left_on='NHL',right_on='team',how='right')\n",
    "#print(list(nhl_df[\"team\"].sort_values()))\n",
    "#print(list(cities_NHL[\"NHL\"].sort_values()))\n",
    "new_df_nhl['W'] = pd.to_numeric(new_df_nhl['W'])\n",
    "new_df_nhl['L'] = pd.to_numeric(new_df_nhl['L'])\n",
    "new_df_nhl['Population'] = pd.to_numeric(new_df_nhl['Population'])\n",
    "\n",
    "def corr_data(df):\n",
    "    ans = df.groupby('Metropolitan area').agg({'W':sum,'L':sum,'Population':min})\n",
    "    ans['ratio'] = ans['W']/(ans['W']+ans['L'])\n",
    "    return ans\n",
    "    \n",
    "    \n",
    "def nhl_correlation(): \n",
    "    \n",
    "    ans = corr_data(new_df_nhl)\n",
    "    population_by_region = ans[new_df_nhl.columns[1]] # pass in metropolitan area population from cities\n",
    "    win_loss_by_region = ans['ratio'] # pass in win/loss ratio from nhl_df in the same order as cities[\"Metropolitan area\"]\n",
    "    \n",
    "    return stats.pearsonr(population_by_region, win_loss_by_region)\n",
    "\n",
    "print(nhl_correlation())"
   ]
  },
  {
   "cell_type": "code",
   "execution_count": null,
   "metadata": {
    "deletable": false,
    "editable": false,
    "nbgrader": {
     "checksum": "52a581df513c71153e105b93764cda4b",
     "grade": true,
     "grade_id": "cell-ebe0b2dfe1067e63",
     "locked": true,
     "points": 20,
     "schema_version": 1,
     "solution": false
    }
   },
   "outputs": [],
   "source": []
  },
  {
   "cell_type": "markdown",
   "metadata": {
    "deletable": false,
    "editable": false,
    "nbgrader": {
     "checksum": "988912cae4968d81473f46d783e79c16",
     "grade": false,
     "grade_id": "cell-cb964e690298b71d",
     "locked": true,
     "schema_version": 1,
     "solution": false
    }
   },
   "source": [
    "Calculating the win/loss ratio's correlation with the population of the city it is in for the **NBA** using **2018** data."
   ]
  },
  {
   "cell_type": "code",
   "execution_count": 7,
   "metadata": {
    "deletable": false,
    "nbgrader": {
     "checksum": "9394222aafc8ccab0a228098ba0d6010",
     "grade": false,
     "grade_id": "cell-5a5f21279e3d3572",
     "locked": false,
     "schema_version": 1,
     "solution": true
    }
   },
   "outputs": [
    {
     "name": "stdout",
     "output_type": "stream",
     "text": [
      "(-0.17657160252844617, 0.36874741604463)\n"
     ]
    }
   ],
   "source": [
    "import pandas as pd\n",
    "import numpy as np\n",
    "import scipy.stats as stats\n",
    "import re\n",
    "\n",
    "nba_df=pd.read_csv(\"assets/nba.csv\")\n",
    "cities=pd.read_html(\"assets/wikipedia_data.html\")[1]\n",
    "cities=cities.iloc[:-1,[0,3,5,6,7,8]]\n",
    "\n",
    "cities = cities.rename(columns = {cities.columns[1]:'Population'})\n",
    "nba_df = nba_df[(nba_df['year']==2018)]\n",
    "nba_df.replace({'team':r'[\\*\\d\\(\\)]'}, '',regex = True,inplace = True)\n",
    "nba_df['team'] = nba_df['team'].str.strip()\n",
    "nba_df[['city','team']] = nba_df['team'].str.split(' ',1,expand = True)\n",
    "\n",
    "nba_df.at[10,'city']='New York'\n",
    "nba_df.at[10,'team']='Knicks'\n",
    "nba_df.at[16,'city']='San Farncisco Bay Area'\n",
    "nba_df.at[16,'team']='Warriors'\n",
    "nba_df.at[18,'city']='Oklahoma City'\n",
    "nba_df.at[18,'team']='Thunder'\n",
    "nba_df.at[20,'city']='New Orleans'\n",
    "nba_df.at[20,'team']='Pelicans'\n",
    "nba_df.at[21,'city']='San Antonio'\n",
    "nba_df.at[21,'team']='Spurs'\n",
    "nba_df.at[24,'city']='Los Angeles'\n",
    "nba_df.at[24,'team']='Clippers'\n",
    "nba_df.at[25,'city']='Los Angeles'\n",
    "nba_df.at[25,'team']='Lakers'\n",
    "nba_df.at[2,'team']='76ers'\n",
    "\n",
    "#print(nba_df)\n",
    "\n",
    "cities_NBA = cities.iloc[:,[0,1,4]]\n",
    "cities_NBA.replace({'NBA':r'\\[.+\\]'}, {'NBA':\"\"},regex = True,inplace = True)\n",
    "\n",
    "cities_NBA.at[0,'NBA'] = 'Knicks'\n",
    "nr = pd.Series({cities_NBA.columns[0]:cities_NBA.iat[0,0],cities_NBA.columns[1]:cities_NBA.iat[0,1],'NBA':'Nets'})\n",
    "cities_NBA = cities_NBA.append(nr,ignore_index = True)\n",
    "\n",
    "cities_NBA.at[1,'NBA'] = 'Lakers'\n",
    "nr = pd.Series({cities_NBA.columns[0]:cities_NBA.iat[1,0],cities_NBA.columns[1]:cities_NBA.iat[1,1],'NBA':'Clippers'})\n",
    "cities_NBA = cities_NBA.append(nr,ignore_index = True)\n",
    "\n",
    "new_df_nba = cities_NBA.merge(nba_df,left_on='NBA',right_on='team',how='right')\n",
    "\n",
    "new_df_nba['W'] = pd.to_numeric(new_df_nba['W'])\n",
    "new_df_nba['L'] = pd.to_numeric(new_df_nba['L'])\n",
    "new_df_nba['Population'] = pd.to_numeric(new_df_nba['Population'])\n",
    "\n",
    "\n",
    "def nba_correlation():\n",
    "    ans = corr_data(new_df_nba)\n",
    "    \n",
    "    population_by_region = ans['Population'] # pass in metropolitan area population from cities\n",
    "    win_loss_by_region = ans['ratio'] # pass in win/loss ratio from nba_df in the same order as cities[\"Metropolitan area\"]\n",
    "\n",
    "    return stats.pearsonr(population_by_region, win_loss_by_region)\n",
    "\n",
    "print(nba_correlation())"
   ]
  },
  {
   "cell_type": "code",
   "execution_count": null,
   "metadata": {
    "deletable": false,
    "editable": false,
    "nbgrader": {
     "checksum": "bbdeb8eb22f525a34c10dc8798324e42",
     "grade": true,
     "grade_id": "cell-e573b2b4a282b470",
     "locked": true,
     "points": 20,
     "schema_version": 1,
     "solution": false
    }
   },
   "outputs": [],
   "source": []
  },
  {
   "cell_type": "markdown",
   "metadata": {
    "deletable": false,
    "editable": false,
    "nbgrader": {
     "checksum": "1a1a5809f675ca033086422007cd73bd",
     "grade": false,
     "grade_id": "cell-96e15e4335df78f4",
     "locked": true,
     "schema_version": 1,
     "solution": false
    }
   },
   "source": [
    "Calculating the win/loss ratio's correlation with the population of the city it is in for the **MLB** using **2018** data."
   ]
  },
  {
   "cell_type": "code",
   "execution_count": 8,
   "metadata": {
    "deletable": false,
    "nbgrader": {
     "checksum": "27e8c0da6c9fa0dffc10488314335b6c",
     "grade": false,
     "grade_id": "cell-33b00fc3f3467b0c",
     "locked": false,
     "schema_version": 1,
     "solution": true
    }
   },
   "outputs": [
    {
     "name": "stdout",
     "output_type": "stream",
     "text": [
      "(0.1505230448710485, 0.4629669779770907)\n"
     ]
    }
   ],
   "source": [
    "import pandas as pd\n",
    "import numpy as np\n",
    "import scipy.stats as stats\n",
    "import re\n",
    "\n",
    "mlb_df=pd.read_csv(\"assets/mlb.csv\")\n",
    "cities=pd.read_html(\"assets/wikipedia_data.html\")[1]\n",
    "cities=cities.iloc[:-1,[0,3,5,6,7,8]]\n",
    "\n",
    "cities = cities.rename(columns = {cities.columns[1]:'Population'})\n",
    "mlb_df = mlb_df[(mlb_df['year']==2018)]\n",
    "mlb_df[['city','team']] = mlb_df['team'].str.split(' ',1,expand = True)\n",
    "\n",
    "mlb_df.at[1,'city']='New York'\n",
    "mlb_df.at[1,'team']='Yankees'\n",
    "mlb_df.at[2,'city']='Tampa Bay'\n",
    "mlb_df.at[2,'team']='Rays'\n",
    "mlb_df.at[9,'city']='Kansas City'\n",
    "mlb_df.at[9,'team']='Royals'\n",
    "mlb_df.at[13,'city']='Los Angeles'\n",
    "mlb_df.at[13,'team']='Angels'\n",
    "mlb_df.at[18,'city']='New York'\n",
    "mlb_df.at[18,'team']='Mets'\n",
    "mlb_df.at[22,'city']='St.Louis'\n",
    "mlb_df.at[22,'team']='Cardinals'\n",
    "mlb_df.at[25,'city']='Los Angeles'\n",
    "mlb_df.at[25,'team']='Dodgers'\n",
    "mlb_df.at[28,'city']='San Francisco'\n",
    "mlb_df.at[28,'team']='Giants'\n",
    "mlb_df.at[29,'city']='San Diego'\n",
    "mlb_df.at[29,'team']='Padres'\n",
    "\n",
    "\n",
    "cities_mlb = cities.iloc[:,[0,1,3]]\n",
    "cities_mlb.replace({'MLB':r'\\[.+\\]'}, {'MLB':\"\"},regex = True,inplace = True)\n",
    "\n",
    "cities_mlb.at[0,'MLB'] = 'Yankees'\n",
    "nr = pd.Series({cities_mlb.columns[0]:cities_mlb.iat[0,0],cities_mlb.columns[1]:cities_mlb.iat[0,1],'MLB':'Mets'})\n",
    "cities_mlb = cities_mlb.append(nr,ignore_index = True)\n",
    "\n",
    "cities_mlb.at[1,'MLB'] = 'Dodgers'\n",
    "nr = pd.Series({cities_mlb.columns[0]:cities_mlb.iat[1,0],cities_mlb.columns[1]:cities_mlb.iat[1,1],'MLB':'Angels'})\n",
    "cities_mlb = cities_mlb.append(nr,ignore_index = True)\n",
    "\n",
    "cities_mlb.at[2,'MLB'] = 'Giants'\n",
    "nr = pd.Series({cities_mlb.columns[0]:cities_mlb.iat[2,0],cities_mlb.columns[1]:cities_mlb.iat[2,1],'MLB':'Athletics'})\n",
    "cities_mlb = cities_mlb.append(nr,ignore_index = True)\n",
    "\n",
    "cities_mlb.at[3,'MLB'] = 'Cubs'\n",
    "nr = pd.Series({cities_mlb.columns[0]:cities_mlb.iat[3,0],cities_mlb.columns[1]:cities_mlb.iat[3,1],'MLB':'White Sox'})\n",
    "cities_mlb = cities_mlb.append(nr,ignore_index = True)\n",
    "\n",
    "\n",
    "new_df_mlb = cities_mlb.merge(mlb_df,left_on='MLB',right_on='team',how='right')\n",
    "new_df_mlb['W'] = pd.to_numeric(new_df_mlb['W'])\n",
    "new_df_mlb['L'] = pd.to_numeric(new_df_mlb['L'])\n",
    "new_df_mlb['Population'] = pd.to_numeric(new_df_mlb['Population'])\n",
    "\n",
    "def mlb_correlation(): \n",
    "    ans = corr_data(new_df_mlb)\n",
    "    population_by_region = ans['Population'] # pass in metropolitan area population from cities\n",
    "    win_loss_by_region = ans['ratio'] # pass in win/loss ratio from nba_df in the same order as cities[\"Metropolitan area\"]\n",
    "\n",
    "   \n",
    "    return stats.pearsonr(population_by_region, win_loss_by_region)\n",
    "\n",
    "print(mlb_correlation())\n",
    "\n"
   ]
  },
  {
   "cell_type": "code",
   "execution_count": null,
   "metadata": {
    "deletable": false,
    "editable": false,
    "nbgrader": {
     "checksum": "cda33b094ba19ccc37a481e0dd29e0bc",
     "grade": true,
     "grade_id": "cell-764d4476f425c5a2",
     "locked": true,
     "points": 20,
     "schema_version": 1,
     "solution": false
    }
   },
   "outputs": [],
   "source": []
  },
  {
   "cell_type": "markdown",
   "metadata": {
    "deletable": false,
    "editable": false,
    "nbgrader": {
     "checksum": "6977a6da9ed6d8b7a0b7e37bbeda709b",
     "grade": false,
     "grade_id": "cell-793df6c04dfb126e",
     "locked": true,
     "schema_version": 1,
     "solution": false
    }
   },
   "source": [
    "\n",
    "Calculating the win/loss ratio's correlation with the population of the city it is in for the **NFL** using **2018** data."
   ]
  },
  {
   "cell_type": "code",
   "execution_count": 9,
   "metadata": {
    "deletable": false,
    "nbgrader": {
     "checksum": "c4914ad1e119278ec2bd567c52640b66",
     "grade": false,
     "grade_id": "cell-8ccebc209aeec8d9",
     "locked": false,
     "schema_version": 1,
     "solution": true
    }
   },
   "outputs": [
    {
     "name": "stdout",
     "output_type": "stream",
     "text": [
      "<class 'pandas.core.series.Series'>\n",
      "(0.004922112149349393, 0.979783345836372)\n"
     ]
    }
   ],
   "source": [
    "import pandas as pd\n",
    "import numpy as np\n",
    "import scipy.stats as stats\n",
    "import re\n",
    "\n",
    "nfl_df=pd.read_csv(\"assets/nfl.csv\")\n",
    "cities=pd.read_html(\"assets/wikipedia_data.html\")[1]\n",
    "cities=cities.iloc[:-1,[0,3,5,6,7,8]]\n",
    "\n",
    "cities = cities.rename(columns = {cities.columns[1]:'Population'})\n",
    "nfl_df = nfl_df[(nfl_df['year']==2018)]\n",
    "nfl_df.replace('[\\*\\+]', '',regex = True,inplace = True)\n",
    "nfl_df = nfl_df[(nfl_df['team'] != 'NFC North') & (nfl_df['team'] != 'NFC South') & (nfl_df['team'] != 'NFC East') & (nfl_df['team'] != 'NFC West') & \n",
    "                (nfl_df['team'] != 'AFC North') & (nfl_df['team'] != 'AFC South') & (nfl_df['team'] != 'AFC East') & (nfl_df['team'] != 'AFC West')]            \n",
    "nfl_df[['city','team']] = nfl_df['team'].str.split(' ',1,expand = True)\n",
    "nfl_df.at[1,'city']='New England'\n",
    "nfl_df.at[1,'team']='Patriots'\n",
    "nfl_df.at[4,'city']='New York'\n",
    "nfl_df.at[4,'team']='Jets'\n",
    "nfl_df.at[16,'city']='Kansas City'\n",
    "nfl_df.at[16,'team']='Chiefs'\n",
    "nfl_df.at[17,'city']='Los Angeles'\n",
    "nfl_df.at[17,'team']='Chargers'\n",
    "nfl_df.at[24,'city']='New York'\n",
    "nfl_df.at[24,'team']='Giants'\n",
    "nfl_df.at[28,'city']='Green Bay'\n",
    "nfl_df.at[28,'team']='Packers'\n",
    "nfl_df.at[31,'city']='New Orleans'\n",
    "nfl_df.at[31,'team']='Saints'\n",
    "nfl_df.at[34,'city']='Tampa Bay'\n",
    "nfl_df.at[34,'team']='Buccaneers'\n",
    "nfl_df.at[36,'city']='Los Angeles'\n",
    "nfl_df.at[36,'team']='Rams'\n",
    "nfl_df.at[38,'city']='San Francisco'\n",
    "nfl_df.at[38,'team']='49ers'\n",
    "\n",
    "cities_nfl = cities.iloc[:,[0,1,2]]\n",
    "cities_nfl.replace({'NFL':r'\\[.+\\]'}, {'NFL':\"\"},regex = True,inplace = True)\n",
    "\n",
    "cities_nfl.at[0,'NFL'] = 'Giants'\n",
    "nr = pd.Series({cities_nfl.columns[0]:cities_nfl.iat[0,0],cities_nfl.columns[1]:cities_nfl.iat[0,1],'NFL':'Jets'})\n",
    "cities_nfl = cities_nfl.append(nr,ignore_index = True)\n",
    "\n",
    "cities_nfl.at[1,'NFL'] = 'Rams'\n",
    "nr = pd.Series({cities_nfl.columns[0]:cities_nfl.iat[1,0],cities_nfl.columns[1]:cities_nfl.iat[1,1],'NFL':'Chargers'})\n",
    "cities_nfl = cities_nfl.append(nr,ignore_index = True)\n",
    "\n",
    "cities_nfl.at[2,'NFL'] = '49ers'\n",
    "nr = pd.Series({cities_nfl.columns[0]:cities_nfl.iat[2,0],cities_nfl.columns[1]:cities_nfl.iat[2,1],'NFL':'Raiders'})\n",
    "cities_nfl = cities_nfl.append(nr,ignore_index = True)\n",
    "\n",
    "new_df_nfl = cities_nfl.merge(nfl_df,left_on='NFL',right_on='team',how='right')\n",
    "new_df_nfl['W'] = pd.to_numeric(new_df_nfl['W'])\n",
    "new_df_nfl['L'] = pd.to_numeric(new_df_nfl['L'])\n",
    "new_df_nfl['Population'] = pd.to_numeric(new_df_nfl['Population'])\n",
    "\n",
    "\n",
    "def nfl_correlation(): \n",
    "    \n",
    "    ans = corr_data(new_df_nfl)\n",
    "    population_by_region = ans['Population'] # pass in metropolitan area population from cities\n",
    "    win_loss_by_region = ans['ratio'] # pass in win/loss ratio from nba_df in the same order as cities[\"Metropolitan area\"]\n",
    "    return stats.pearsonr(population_by_region, win_loss_by_region)\n",
    "\n",
    "print(nfl_correlation())"
   ]
  },
  {
   "cell_type": "code",
   "execution_count": null,
   "metadata": {
    "deletable": false,
    "editable": false,
    "nbgrader": {
     "checksum": "e9415d6399aa49e3a1a60813afdefa3b",
     "grade": true,
     "grade_id": "cell-de7b148b9554dbda",
     "locked": true,
     "points": 20,
     "schema_version": 1,
     "solution": false
    }
   },
   "outputs": [],
   "source": []
  },
  {
   "cell_type": "markdown",
   "metadata": {
    "deletable": false,
    "editable": false,
    "nbgrader": {
     "checksum": "b02d5cd3273f561e4ae939bb2a41740c",
     "grade": false,
     "grade_id": "cell-97b49d8639e908c4",
     "locked": true,
     "schema_version": 1,
     "solution": false
    }
   },
   "source": [
    "## Question 5\n",
    "Testing the hypothesis is that **given that an area has two sports teams in different sports, those teams will perform the same within their respective sports**. "
   ]
  },
  {
   "cell_type": "code",
   "execution_count": 47,
   "metadata": {
    "deletable": false,
    "nbgrader": {
     "checksum": "92b8bedc9c49fca1ef724ab5ce526db5",
     "grade": false,
     "grade_id": "cell-92f25f44b8d1179f",
     "locked": false,
     "schema_version": 1,
     "solution": true
    }
   },
   "outputs": [
    {
     "name": "stdout",
     "output_type": "stream",
     "text": [
      "     NFL  NBA  NHL  MLB\n",
      "NFL  NaN  NaN  NaN  NaN\n",
      "NBA  NaN  NaN  NaN  NaN\n",
      "NHL  NaN  NaN  NaN  NaN\n",
      "MLB  NaN  NaN  NaN  NaN\n",
      "          NFL       NBA       NHL       MLB\n",
      "NFL       NaN  0.941792  0.030959  0.802384\n",
      "NBA  0.941792       NaN  0.022316  0.951046\n",
      "NHL  0.030959  0.022316       NaN  0.000712\n",
      "MLB  0.802384  0.951046  0.000712       NaN\n"
     ]
    }
   ],
   "source": [
    "import pandas as pd\n",
    "import numpy as np\n",
    "import scipy.stats as stats\n",
    "import re\n",
    "\n",
    "\n",
    "def sports_team_performance():\n",
    "    sports = ['NFL', 'NBA', 'NHL', 'MLB']\n",
    "    p_values = pd.DataFrame({k:np.nan for k in sports}, index=sports)\n",
    "    print(p_values)\n",
    "    corrDict = {'NFL':new_df_nfl,'NBA':new_df_nba,'NHL':new_df_nhl,'MLB':new_df_mlb}\n",
    "    \n",
    "    for s1 in sports:\n",
    "        for s2 in sports:\n",
    "            ps1 = pd.DataFrame(corr_data(corrDict[s1])['ratio'])\n",
    "            ps2 = pd.DataFrame(corr_data(corrDict[s2])['ratio'])\n",
    "            \n",
    "            ps = ps1.merge(ps2,on='Metropolitan area',how='inner')\n",
    "            stat,p=stats.ttest_rel(ps.iloc[:,0],ps.iloc[:,1])\n",
    "            p_values.loc[s1,s2] = p\n",
    "            \n",
    "\n",
    "print(sports_team_performance())"
   ]
  },
  {
   "cell_type": "code",
   "execution_count": null,
   "metadata": {
    "deletable": false,
    "editable": false,
    "nbgrader": {
     "checksum": "2a596ab421a45cc01168d10e8fbb8f89",
     "grade": true,
     "grade_id": "cell-fb4b9cb5ff4570a6",
     "locked": true,
     "points": 20,
     "schema_version": 1,
     "solution": false
    }
   },
   "outputs": [],
   "source": []
  }
 ],
 "metadata": {
  "coursera": {
   "schema_names": [
    "mooc_adswpy_1_v2_assignment4"
   ]
  },
  "kernelspec": {
   "display_name": "Python 3",
   "language": "python",
   "name": "python3"
  },
  "language_info": {
   "codemirror_mode": {
    "name": "ipython",
    "version": 3
   },
   "file_extension": ".py",
   "mimetype": "text/x-python",
   "name": "python",
   "nbconvert_exporter": "python",
   "pygments_lexer": "ipython3",
   "version": "3.7.3"
  }
 },
 "nbformat": 4,
 "nbformat_minor": 1
}
